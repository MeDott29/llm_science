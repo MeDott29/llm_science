{
 "cells": [
  {
   "cell_type": "markdown",
   "metadata": {},
   "source": [
    "#Interpretive Data Modeling\n",
    "\n",
    "If I just ask a model/person something like `Why do people leave lights on at night when they've gone upstairs to bed?` it could respond with a wide range of information.  The chance this information is helpful is low because my question is very specific in my head but it's open to a wide range of interpretations.\n",
    "\n",
    "I could tell the story of what happened and that would help.  With good context, the model has a much easier time providing a good answer."
   ]
  },
  {
   "cell_type": "code",
   "execution_count": 2,
   "metadata": {},
   "outputs": [],
   "source": [
    "\n",
    "last_night=\"Last night, I went upstairs at 1AM because I saw a lot of light coming from the kitchen, through the cat door cut into the basement door.  I walked up the stairs wondering why the lights were on. I was annoyed at this point but not upset.  My brother and his girlfriend were playing a board game at the dining room table earlier in the evening and so as I was walking up the stairs I was expecting to have to turn off one light before going back down the stairs to bed.  What I found was different from what I was expecting and I got upset.  I turned one light off only to realize there was another light on above the dining room table. I wasn't upset at this point, it made sense that light was on. I turned it off only to turn around and see another light on.  After turning the third light off I snapped and had a vision of myself storming up the stairs to yell at them. Why was I so upset about that?  I think maybe if it wasn't for all the times I have been yelled at by my parents for doing the same thing and my desire not to emulate their behavior, I would have stormed up the stairs and yelled at them.  There's so much that goes in to that moment.  Why did I walk up the stairs in the first place? To turn off the light. I know it's easier to sleep when I'm isolated from bright light sources.\"\n"
   ]
  },
  {
   "cell_type": "markdown",
   "metadata": {},
   "source": [
    "I demonstrate a method of describing a problem/conflict and mapping it to a data model with an LLM.\n",
    "\n",
    "I believe it's possible to experimentally map many different problems/questions/interactions/conflicts with this technique. \n",
    "\n",
    "Tracing and describing the chain of complexity for a given issue is helpful when examining a problem and has applications in many fields."
   ]
  },
  {
   "cell_type": "markdown",
   "metadata": {},
   "source": [
    "# Summary of Our Work with Pydantic Models \n",
    "## co-authored by [Phind](https://www.phind.com/) and Matthew Hendricks\n",
    "## Introduction\n",
    " We started with the goal of creating a data model to encapsulate the information in a complex narrative. To achieve this, we used Python and the Pydantic library, which allows us to define data models with type annotations and provides automatic data validation. \n",
    " ## Basic Pydantic Models\n",
    "  Our first step was to create simple Pydantic models to capture key elements of the narrative, such as the action, location, and time. These models served as the foundation for our data model. \n",
    " ## Incorporating the Person Class\n",
    "  Next, we incorporated the `Person` class into our model to represent the people involved in the narrative. Pydantic's support for nested models allowed us to add complexity and depth to our data model. ## Handling Multiple People We then modified the model to handle multiple people by using a list of `Person` instances. This allowed us to capture the actions and emotions of multiple people in the narrative. \n",
    "  ## Detailed Pydantic Models\n",
    "   To capture more complex elements of the narrative, we created more detailed Pydantic models for events and emotions. These models allowed us to encapsulate a large amount of information in a structured way. \n",
    "  ## Creating an Instance of the Model \n",
    "  Finally, we created an instance of our final `NightBehavior` model using the provided narrative. This instance captured all the key information in the narrative, and Pydantic validated this data to ensure it matched the structure of our model. \n",
    "  ## Conclusion\n",
    "   Using Pydantic to create data models for complex narratives proved to be a powerful approach. It allowed us to structure and validate a large amount of information in a way that was easy to understand and work with. Future improvements could include handling more complex narratives or incorporating more features of Pydantic."
   ]
  },
  {
   "cell_type": "code",
   "execution_count": 1,
   "metadata": {},
   "outputs": [],
   "source": [
    "# This code represents a refined and practical application of my expertise and experience with Language Models (LLMs) and Pydantic.\n",
    "\n",
    "from pydantic import BaseModel\n",
    "from typing import List, Optional\n",
    "\n",
    "class Person(BaseModel):\n",
    "    name: str\n",
    "\n",
    "class Event(BaseModel):\n",
    "    time: str\n",
    "    location: str\n",
    "    action: str\n",
    "    person: Person\n",
    "\n",
    "class Emotion(BaseModel):\n",
    "    emotion: str\n",
    "    trigger: str\n",
    "    reaction: str\n",
    "\n",
    "class NightBehavior(BaseModel):\n",
    "    people: List[Person]\n",
    "    events: List[Event]\n",
    "    emotions: List[Emotion]\n",
    "    question: str\n",
    "    reason_for_action: str\n",
    "\n",
    "behavior = NightBehavior(\n",
    "    people=[Person(name=\"Me\"), Person(name=\"My brother\"), Person(name=\"My brother's girlfriend\")],\n",
    "    events=[\n",
    "        Event(time=\"1AM\", location=\"kitchen\", action=\"saw light\", person=Person(name=\"Me\")),\n",
    "        Event(time=\"Earlier in the evening\", location=\"dining room table\", action=\"playing a board game\", person=Person(name=\"My brother\")),\n",
    "        # Add more events as needed\n",
    "    ],\n",
    "    emotions=[\n",
    "        Emotion(emotion=\"annoyed\", trigger=\"lights on\", reaction=\"walked upstairs\"),\n",
    "        Emotion(emotion=\"upset\", trigger=\"more lights on\", reaction=\"vision of storming upstairs\"),\n",
    "        # Add more emotions as needed\n",
    "    ],\n",
    "    question=\"Why do people leave lights on at night when they've gone upstairs to bed?\",\n",
    "    reason_for_action=\"Easier to sleep when isolated from bright light sources\"\n",
    ")"
   ]
  },
  {
   "cell_type": "markdown",
   "metadata": {},
   "source": [
    "Now we use the description of the situation and [instructor](https://github.com/jxnl/instructor) to generate meaningful, structured data. "
   ]
  },
  {
   "cell_type": "code",
   "execution_count": 3,
   "metadata": {},
   "outputs": [
    {
     "data": {
      "text/plain": [
       "NightBehavior(people=[Person(name='me'), Person(name='brother'), Person(name=\"brother's girlfriend\"), Person(name='parents')], events=[Event(time='1AM', location='kitchen', action='saw a lot of light coming from the kitchen, through the cat door cut into the basement door', person=Person(name='me')), Event(time='evening', location='dining room table', action='playing a board game', person=Person(name='brother and his girlfriend')), Event(time='1AM', location='stairs', action='walked up the stairs wondering why the lights were on', person=Person(name='me')), Event(time='1AM', location='stairs', action='expecting to have to turn off one light before going back down the stairs to bed', person=Person(name='me')), Event(time='1AM', location='dining room table', action='turned one light off only to realize there was another light on above the dining room table', person=Person(name='me')), Event(time='1AM', location='dining room table', action='turned another light off', person=Person(name='me')), Event(time='1AM', location='stairs', action='snapped and had a vision of myself storming up the stairs to yell at them', person=Person(name='me')), Event(time='1AM', location='stairs', action='storming up the stairs to yell at them', person=Person(name='me')), Event(time='unknown', location='unknown', action='yelled at by parents for doing the same thing', person=Person(name='me')), Event(time='unknown', location='unknown', action='desire not to emulate their behavior', person=Person(name='me'))], emotions=[Emotion(emotion='annoyed', trigger='lights were on', reaction='not upset'), Emotion(emotion='upset', trigger='found was different from what I was expecting', reaction='got upset'), Emotion(emotion='upset', trigger='turned the third light off', reaction='snapped and had a vision of myself storming up the stairs to yell at them')], question='Why was I so upset about that?', reason_for_action=\"To turn off the light. I know it's easier to sleep when I'm isolated from bright light sources.\")"
      ]
     },
     "execution_count": 3,
     "metadata": {},
     "output_type": "execute_result"
    }
   ],
   "source": [
    "import instructor\n",
    "import datetime\n",
    "from openai import OpenAI\n",
    "\n",
    "client = OpenAI()\n",
    "client = instructor.patch(client)\n",
    "\n",
    "resp = client.chat.completions.create(\n",
    "    model=\"gpt-3.5-turbo-1106\",\n",
    "    messages=[\n",
    "        {\n",
    "            \"role\": \"user\", \n",
    "            \"content\": f\"\"\"{last_night}\"\"\"},\n",
    "    ],\n",
    "    response_model=NightBehavior\n",
    ")\n",
    "resp"
   ]
  },
  {
   "cell_type": "markdown",
   "metadata": {},
   "source": [
    "Note the model's inclusion of 'unknown' in several fields.  I didn't tell it to do that.  Very interesting and potentially helpful."
   ]
  }
 ],
 "metadata": {
  "kernelspec": {
   "display_name": "venv",
   "language": "python",
   "name": "python3"
  },
  "language_info": {
   "codemirror_mode": {
    "name": "ipython",
    "version": 3
   },
   "file_extension": ".py",
   "mimetype": "text/x-python",
   "name": "python",
   "nbconvert_exporter": "python",
   "pygments_lexer": "ipython3",
   "version": "3.11.6"
  }
 },
 "nbformat": 4,
 "nbformat_minor": 2
}
